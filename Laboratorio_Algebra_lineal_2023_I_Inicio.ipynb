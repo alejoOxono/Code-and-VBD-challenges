{
  "nbformat": 4,
  "nbformat_minor": 0,
  "metadata": {
    "colab": {
      "provenance": [],
      "toc_visible": true,
      "include_colab_link": true
    },
    "kernelspec": {
      "name": "python3",
      "display_name": "Python 3"
    },
    "language_info": {
      "name": "python"
    }
  },
  "cells": [
    {
      "cell_type": "markdown",
      "metadata": {
        "id": "view-in-github",
        "colab_type": "text"
      },
      "source": [
        "<a href=\"https://colab.research.google.com/github/alejoOxono/Code-and-VBD-challenges/blob/main/Laboratorio_Algebra_lineal_2023_I_Inicio.ipynb\" target=\"_parent\"><img src=\"https://colab.research.google.com/assets/colab-badge.svg\" alt=\"Open In Colab\"/></a>"
      ]
    },
    {
      "cell_type": "markdown",
      "source": [
        "<font size=6 color=\"#0098CD\">\n",
        "Álgebra Lineal 2023-I\n",
        "</font>\n",
        "\n",
        "Laboratorio: vectores en $\\mathbb{R}^2$ y $\\mathbb{R}^3$\n",
        "\n",
        "---"
      ],
      "metadata": {
        "id": "-okbIUq5kdyj"
      }
    },
    {
      "cell_type": "code",
      "source": [
        "Nombre = \"Alejandro Cardona Ocampo\" #@param {type:\"string\"}\n",
        "Documento = \"1128436768\" #@param {type:\"string\"}\n",
        "\n",
        "nombre = Nombre.split()[0]\n",
        "documento = int(Documento)"
      ],
      "metadata": {
        "cellView": "form",
        "id": "31GN-jsm-1nE"
      },
      "execution_count": 5,
      "outputs": []
    },
    {
      "cell_type": "markdown",
      "source": [
        "---"
      ],
      "metadata": {
        "id": "wESGmOB_C4z_"
      }
    },
    {
      "cell_type": "code",
      "source": [
        "# Importar bibliotecas\n",
        "import random\n",
        "import numpy as np\n",
        "import matplotlib.pyplot as plt"
      ],
      "metadata": {
        "id": "H1HE4AyHqnAU"
      },
      "execution_count": 6,
      "outputs": []
    },
    {
      "cell_type": "markdown",
      "source": [
        "---\n",
        "###Generación de datos para los ejercicios\n",
        "\n",
        "---"
      ],
      "metadata": {
        "id": "dhDLtECO590W"
      }
    },
    {
      "cell_type": "markdown",
      "source": [
        "Ejecuta la siguiente celda para conocer los vectores que debes usar en cada ejercicio. No modifiques el código."
      ],
      "metadata": {
        "id": "O_L-hIS5pHXh"
      }
    },
    {
      "cell_type": "code",
      "execution_count": 7,
      "metadata": {
        "id": "Gv9gghbGkAVr",
        "colab": {
          "base_uri": "https://localhost:8080/"
        },
        "outputId": "99488a7f-347c-464e-ef7d-7e550126f097"
      },
      "outputs": [
        {
          "output_type": "stream",
          "name": "stdout",
          "text": [
            "\n",
            "¡Gracias Alejandro! Usa los siguientes vectores para el ejercicio 1:\n",
            "-> u = [8, -6]\n",
            "-> v = [2, 7]\n",
            "\n",
            "Y para el ejercicio 2:\n",
            "-> u2 = [0, 6, 1]\n",
            "-> v2 = [-8, 0, 0]\n",
            "-> w2 = [0, 9, 9]\n"
          ]
        }
      ],
      "source": [
        "# Inicialización del generador de números pseudoaleatorios\n",
        "random.seed(documento)\n",
        "\n",
        "# Generación de vectores para el ejercicio 1\n",
        "u_x = random.randint(5, 10); u_y = random.randint(-10, 0)\n",
        "v_x = random.randint(0, 5); v_y = random.randint(5, 10)\n",
        "\n",
        "u = np.array([u_x, u_y])\n",
        "v = np.array([v_x, v_y])\n",
        "\n",
        "# Generación de vectores para el ejercicio 2\n",
        "u2_x = 0; u2_y = random.randint(5, 10); u2_z = random.randint(-1, 1)\n",
        "v2_x = random.randint(-10, -5); v2_y = 0; v2_z = random.randint(-1, 1)\n",
        "w2_x = 0; w2_y = random.randint(5, 10); w2_z = random.randint(5, 10)\n",
        "\n",
        "u2 = np.array([u2_x, u2_y, u2_z])\n",
        "v2 = np.array([v2_x, v2_y, v2_z])\n",
        "w2 = np.array([w2_x, w2_y, w2_z])\n",
        "\n",
        "# Presentación de resultados\n",
        "print(\"\\n¡Gracias {}! Usa los siguientes vectores para el ejercicio 1:\".format(nombre))\n",
        "print(\"-> u = [{}, {}]\".format(u_x, u_y))\n",
        "print(\"-> v = [{}, {}]\".format(v_x, v_y))\n",
        "print(\"\\nY para el ejercicio 2:\")\n",
        "print(\"-> u2 = [{}, {}, {}]\".format(u2_x, u2_y, u2_z))\n",
        "print(\"-> v2 = [{}, {}, {}]\".format(v2_x, v2_y, v2_z))\n",
        "print(\"-> w2 = [{}, {}, {}]\".format(w2_x, w2_y, w2_z))\n"
      ]
    },
    {
      "cell_type": "markdown",
      "source": [
        "---\n",
        "###Ejercicio 1. Vectores en $R^2$\n",
        "\n",
        "---"
      ],
      "metadata": {
        "id": "Cs1W0wHBo87a"
      }
    },
    {
      "cell_type": "markdown",
      "source": [
        "**a) Calcula la proyección de $\\overrightarrow{u}$ sobre $\\overrightarrow{v}$ usando la siguiente expresión. Registra el procedimiento paso a paso.**\n",
        "\n",
        "<br>\n",
        "$proy_vu = \\dfrac{\\overrightarrow{u} \\cdot \\overrightarrow{v}}{|\\overrightarrow{v}|^2} \\overrightarrow{v}$\n"
      ],
      "metadata": {
        "id": "uh3qnWekvgBT"
      }
    },
    {
      "cell_type": "markdown",
      "source": [
        ">Solución: \\\n",
        ">Realizar el producto punto del vector $\\overrightarrow{u}$ y $\\overrightarrow{v}$, que es igual a la suma del producto de sus componentes.  \\\n",
        ">$\\overrightarrow{u}\\;=\\;(8,\\;-6)$ \\\n",
        ">$\\overrightarrow{v}\\;=\\;(2,\\;7)$ \\\n",
        ">$\\overrightarrow{u} \\cdot \\overrightarrow{v}\\;=\\;(8)(2)+(-6)(7)\\;=\\;-26$ \\\n",
        ">Se realiza el cálculo de la magnitud del vector $\\overrightarrow{v}$, que es igual a la raíz cuadrada de la suma del cuadrado de sus componentes.  \\\n",
        ">$|\\overrightarrow{v}|^2\\;=\\;\\sqrt[\\leftroot{10} \\uproot{5} 2]{2^2+7^2}\\;=\\;53$ \\\n",
        ">Se reemplaza los resultados y se efectua la multiplicación del escalar resultante por el vector $\\overrightarrow{v}$.  \\\n",
        "$proy_vu = \\dfrac{-26}{53}\\;(2,\\;7)\\;=\\;(-0.981,\\;-3.434)$"
      ],
      "metadata": {
        "id": "olD0M_Gmv9Xa"
      }
    },
    {
      "cell_type": "markdown",
      "source": [
        "**b) Usa la biblioteca numpy para comprobar el resultado del literal anterior.**"
      ],
      "metadata": {
        "id": "BR-fygSIwBSV"
      }
    },
    {
      "cell_type": "code",
      "source": [
        "# Cálculo de la proyección del vector u sobre el vector v\n",
        "proyeccion = np.dot(u, v) / np.linalg.norm(v)**2 * v\n",
        "print(f'El resultado de la proyección de u sobre v es: {proyeccion}')"
      ],
      "metadata": {
        "id": "SurKri0ErGT2",
        "colab": {
          "base_uri": "https://localhost:8080/"
        },
        "outputId": "7997ea81-decb-4fc3-dc27-1283953356c3"
      },
      "execution_count": 11,
      "outputs": [
        {
          "output_type": "stream",
          "name": "stdout",
          "text": [
            "El resultado de la proyección de u sobre v es: [-0.98113208 -3.43396226]\n"
          ]
        }
      ]
    },
    {
      "cell_type": "markdown",
      "source": [
        "**c) Traza la gráfica de los vectores $\\overrightarrow{u}$, $\\overrightarrow{v}$ y de la proyección vectorial de $\\overrightarrow{u}$ sobre $\\overrightarrow{v}$, en el plano cartesiano, usando Matplotlib.**"
      ],
      "metadata": {
        "id": "MsgGFJ-xzNDc"
      }
    },
    {
      "cell_type": "code",
      "source": [
        "# Configurar ejes\n",
        "fig, ax = plt.subplots()\n",
        "ax.grid()\n",
        "ax.set_xlim(-2, 10), ax.set_ylim(-10, 10)\n",
        "ax.set_xlabel(\"x\"), ax.set_ylabel(\"y\")\n",
        "ax.set_title(\"Figura 1. Representación vectores ejercicio 1\")\n",
        "\n",
        "# Señalar el origen\n",
        "ax.scatter(0, 0, color=\"k\")\n",
        "\n",
        "# Trazar ejes\n",
        "plt.axvline(0, color = \"black\", linewidth = 1, linestyle = \"dashed\");\n",
        "plt.axhline(0, color = \"black\", linewidth = 1, linestyle = \"dashed\");\n",
        "\n",
        "# Gráficar los vectores\n",
        "# Vector u\n",
        "ax.quiver(u[0], u[1], angles=\"xy\", scale_units=\"xy\", scale=1, color=\"g\")\n",
        "ax.text(u[0] + 0.2, u[1], \"$\\overrightarrow{u}$\")\n",
        "\n",
        "# Vector v\n",
        "ax.quiver(v[0], v[1], angles=\"xy\", scale_units=\"xy\", scale=1, color=\"b\")\n",
        "ax.text(v[0] + 0.2, v[1], \"$\\overrightarrow{v}$\")\n",
        "\n",
        "# Vector proyección de u sobre v\n",
        "ax.quiver(proyeccion[0], proyeccion[1], angles=\"xy\", scale_units=\"xy\", scale=1, color=\"r\")\n",
        "ax.text(proyeccion[0] + 0.2, proyeccion[1], \"$proy_vu$\")\n",
        "\n",
        "# Mostrar la gráfica\n",
        "plt.show()"
      ],
      "metadata": {
        "id": "gNr4E-hkzRdT",
        "colab": {
          "base_uri": "https://localhost:8080/",
          "height": 472
        },
        "outputId": "99acd89d-a667-4abb-f95b-89cea67c2dd1"
      },
      "execution_count": 12,
      "outputs": [
        {
          "output_type": "display_data",
          "data": {
            "text/plain": [
              "<Figure size 640x480 with 1 Axes>"
            ],
            "image/png": "[encoded data removed]"
          },
          "metadata": {}
        }
      ]
    },
    {
      "cell_type": "markdown",
      "source": [
        "---\n",
        "###Ejercicio 2. Vectores en $R^3$\n",
        "\n",
        "---"
      ],
      "metadata": {
        "id": "XV1V1qyX4yn3"
      }
    },
    {
      "cell_type": "markdown",
      "source": [
        "Considera el paralelepípedo con vértice en el origen y cuyos lados están definidos por los vectores $\\overrightarrow{u_2}$, $\\overrightarrow{v_2}$ y $\\overrightarrow{w_2}$ generados al inicio."
      ],
      "metadata": {
        "id": "DJBzlQF8Duk7"
      }
    },
    {
      "cell_type": "markdown",
      "source": [
        "**a) Calcula el volumen del paralelepípedo usando la siguiente fórmula. Registra el procedimiento paso a paso.**\n",
        "\n",
        "$V = |\\overrightarrow{u} \\cdot (\\overrightarrow{v} \\times \\overrightarrow{w})|$"
      ],
      "metadata": {
        "id": "ybhhe8iPE-Nr"
      }
    },
    {
      "cell_type": "markdown",
      "source": [
        ">Solución:\n",
        ">"
      ],
      "metadata": {
        "id": "qJNqQzMOFunU"
      }
    },
    {
      "cell_type": "markdown",
      "source": [
        "**b) Usa la biblioteca numpy para comprobar el resultado del literal anterior.**"
      ],
      "metadata": {
        "id": "WE9KKqo0FygW"
      }
    },
    {
      "cell_type": "code",
      "source": [
        "# Cálculo del volumen del paralelepípedo\n"
      ],
      "metadata": {
        "id": "rVBSzCEJF578"
      },
      "execution_count": null,
      "outputs": []
    },
    {
      "cell_type": "markdown",
      "source": [
        "**c) Calcula de nuevo el volumen, ahora usando la siguiente fórmula y evaluando el determinante por cofactores. Registra el procedimiento paso a paso.**\n",
        "\n",
        ">$V = \\left| det\\left( \\begin{bmatrix}\n",
        "u_{x} & u_{y} & u_{z}\\\\\n",
        "v_{x} & v_{y} & v_{z}\\\\\n",
        "w_{x} & w_{y} & w_{z}\n",
        "\\end{bmatrix} \\right)\\right|$"
      ],
      "metadata": {
        "id": "ot3VVArnFy0o"
      }
    },
    {
      "cell_type": "markdown",
      "source": [
        ">Solución:\n",
        ">"
      ],
      "metadata": {
        "id": "ncQgoJjOHEhG"
      }
    },
    {
      "cell_type": "markdown",
      "source": [
        "---\n",
        "\n",
        "###Conclusiones\n",
        "---"
      ],
      "metadata": {
        "id": "X2np4An043Ep"
      }
    },
    {
      "cell_type": "markdown",
      "source": [
        "Redacta tres conclusiones sobre el laboratorio. Considera los ejercicios propuestos y el uso de Python, $\\LaTeX$ y Google Colaboratory."
      ],
      "metadata": {
        "id": "JknDBGxx5Fym"
      }
    },
    {
      "cell_type": "markdown",
      "source": [
        "> Conclusión 1:"
      ],
      "metadata": {
        "id": "5MrJ3iYP5ilH"
      }
    },
    {
      "cell_type": "markdown",
      "source": [
        "> Conclusión 2:"
      ],
      "metadata": {
        "id": "hbx_2v2Z5ooK"
      }
    },
    {
      "cell_type": "markdown",
      "source": [
        "> Conclusión 3:"
      ],
      "metadata": {
        "id": "rIj6WFjb5oxo"
      }
    }
  ]
}